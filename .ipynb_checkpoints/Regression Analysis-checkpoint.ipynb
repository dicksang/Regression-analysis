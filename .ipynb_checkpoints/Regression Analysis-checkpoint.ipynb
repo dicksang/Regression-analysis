{
 "cells": [
  {
   "cell_type": "code",
   "execution_count": 4,
   "metadata": {},
   "outputs": [
    {
     "name": "stdout",
     "output_type": "stream",
     "text": [
      "'data.frame':\t23 obs. of  16 variables:\n",
      " $ Product                  : Factor w/ 23 levels \"Apple Watch 2015\",..: 1 2 3 4 5 6 7 8 9 10 ...\n",
      " $ Sales_K_Unit             : num  13600 11600 17700 22500 65400 ...\n",
      " $ Adj_Sales                : num  340 290 442 562 727 ...\n",
      " $ Functional               : int  632 24 219 153 129 431 26 190 246 445 ...\n",
      " $ Experimental             : int  746 29 316 198 169 153 35 163 193 752 ...\n",
      " $ Symbolic                 : int  12 4 3 2 3 0 1 10 10 12 ...\n",
      " $ Cost                     : int  89 8 64 59 22 77 3 74 68 79 ...\n",
      " $ Optimistic               : int  159 14 69 40 28 38 12 60 85 134 ...\n",
      " $ Affective                : int  78 6 39 19 16 19 3 18 25 63 ...\n",
      " $ Total_Word_Count         : Factor w/ 22 levels \"1,189\",\"1,638\",..: 18 9 7 4 2 8 13 5 6 15 ...\n",
      " $ WC_Normalize_Functional  : num  0.0881 0.0712 0.0693 0.0697 0.0788 ...\n",
      " $ WC_Normalize_Experimental: num  0.104 0.0861 0.1 0.0902 0.1032 ...\n",
      " $ WC_Normalize_Symbolic    : num  0.001673 0.011869 0.00095 0.000911 0.001832 ...\n",
      " $ WC_Normalize_Cost        : num  0.0124 0.0237 0.0203 0.0269 0.0134 ...\n",
      " $ WC_Normalize_Optimistic  : num  0.0222 0.0415 0.0218 0.0182 0.0171 ...\n",
      " $ WC_Normalize_Affective   : num  0.01087 0.0178 0.01235 0.00865 0.00977 ...\n",
      "Start:  AIC=584.53\n",
      "Sales_K_Unit ~ 1\n",
      "\n",
      "               Df   Deviance    AIC\n",
      "+ Symbolic      1 1.0446e+11 582.71\n",
      "+ Cost          1 1.1256e+11 584.43\n",
      "<none>            1.2333e+11 584.53\n",
      "+ Functional    1 1.1486e+11 584.90\n",
      "+ Experimental  1 1.1806e+11 585.53\n",
      "\n",
      "Step:  AIC=582.71\n",
      "Sales_K_Unit ~ Symbolic\n",
      "\n",
      "               Df   Deviance    AIC\n",
      "<none>            1.0446e+11 582.71\n",
      "+ Experimental  1 1.0121e+11 583.99\n",
      "+ Cost          1 1.0422e+11 584.66\n",
      "+ Functional    1 1.0428e+11 584.67\n"
     ]
    }
   ],
   "source": [
    "library(dplyr)\n",
    "library(MASS)\n",
    "\n",
    "rm(list = ls())\n",
    "\n",
    "setwd(\"C:\\\\Users\\\\Dick Sang\\\\Desktop\\\\5. Data Analytics\\\\3. PolyU RA\\\\1. Projects\\\\3. Cust Value Chain Analysis\\\\4. Regression\\\\1. 2020-01\\\\3. analysis\")\n",
    "data <- read.csv(\"Data Input for Analysis.csv\")\n",
    "\n",
    "str(data)\n",
    "######################################################\n",
    "# 1. Test models by absolute word count\n",
    "######################################################\n",
    "#--- 1a. By original sales (Symbolic words drive sales)\n",
    "model <- glm(Sales_K_Unit ~ Functional + \n",
    "                            Experimental +\n",
    "                            Symbolic +\n",
    "                            Cost +\n",
    "                            Functional : Optimistic +\n",
    "                            Experimental : Optimistic +\n",
    "                            # Symbolic : Optimistic +\n",
    "                            Cost : Optimistic +\n",
    "                            Functional : Affective +\n",
    "                            Experimental : Affective +\n",
    "                            # Symbolic : Affective +\n",
    "                            Cost : Affective\n",
    "          , data = data)\n",
    "null_model <- glm(Sales_K_Unit ~ 1, data = data)\n",
    "\n",
    "final_model <- stepAIC(null_model, direction=\"forward\",scope=list(upper=model,lower=null_model))\n",
    "# final_model <- stepAIC(model, direction=\"backward\")"
   ]
  },
  {
   "cell_type": "code",
   "execution_count": 5,
   "metadata": {},
   "outputs": [
    {
     "data": {
      "text/plain": [
       "\n",
       "Call:\n",
       "glm(formula = Sales_K_Unit ~ Symbolic, data = data)\n",
       "\n",
       "Deviance Residuals: \n",
       "    Min       1Q   Median       3Q      Max  \n",
       "-107789   -43919   -17309    15495   185825  \n",
       "\n",
       "Coefficients:\n",
       "            Estimate Std. Error t value Pr(>|t|)  \n",
       "(Intercept)    31494      23492   1.341    0.194  \n",
       "Symbolic        5260       2701   1.947    0.065 .\n",
       "---\n",
       "Signif. codes:  0 '***' 0.001 '**' 0.01 '*' 0.05 '.' 0.1 ' ' 1\n",
       "\n",
       "(Dispersion parameter for gaussian family taken to be 4974488937)\n",
       "\n",
       "    Null deviance: 1.2333e+11  on 22  degrees of freedom\n",
       "Residual deviance: 1.0446e+11  on 21  degrees of freedom\n",
       "AIC: 582.71\n",
       "\n",
       "Number of Fisher Scoring iterations: 2\n"
      ]
     },
     "metadata": {},
     "output_type": "display_data"
    }
   ],
   "source": [
    "summary(final_model)"
   ]
  },
  {
   "cell_type": "code",
   "execution_count": 6,
   "metadata": {},
   "outputs": [
    {
     "data": {
      "image/png": "[encoded data removed]",
      "text/plain": [
       "plot without title"
      ]
     },
     "metadata": {
      "image/png": {
       "height": 420,
       "width": 420
      },
      "text/plain": {
       "height": 420,
       "width": 420
      }
     },
     "output_type": "display_data"
    }
   ],
   "source": [
    "plot(data$Symbolic, data$Sales_K_Unit)\n",
    "# plot(data$Symbolic * data$Affective, data$Sales_K_Unit)\n",
    "# plot(data$Symbolic * data$Optimistic, data$Sales_K_Unit)\n",
    "\n",
    "#--- 1b. By Adjusted sales (No variables are significant - Not studied further)\n",
    "# model <- glm(Adj_Sales ~ Functional + Experimental + Symbolic+ Cost, data = data)\n",
    "# null_model <- glm(Adj_Sales ~ 1, data = data)\n",
    "# \n",
    "# fwd_model <- stepAIC(null_model, direction=\"forward\",scope=list(upper=model,lower=null_model))\n",
    "# \n",
    "# summary(fwd_model)"
   ]
  },
  {
   "cell_type": "code",
   "execution_count": 7,
   "metadata": {},
   "outputs": [
    {
     "name": "stdout",
     "output_type": "stream",
     "text": [
      "Start:  AIC=584.53\n",
      "Sales_K_Unit ~ 1\n",
      "\n",
      "                            Df   Deviance    AIC\n",
      "+ WC_Normalize_Cost          1 1.0176e+11 582.11\n",
      "<none>                         1.2333e+11 584.53\n",
      "+ WC_Normalize_Functional    1 1.2208e+11 586.30\n",
      "+ WC_Normalize_Experimental  1 1.2277e+11 586.43\n",
      "+ WC_Normalize_Symbolic      1 1.2333e+11 586.53\n",
      "\n",
      "Step:  AIC=582.11\n",
      "Sales_K_Unit ~ WC_Normalize_Cost\n",
      "\n",
      "                                            Df   Deviance    AIC\n",
      "<none>                                         1.0176e+11 582.11\n",
      "+ WC_Normalize_Cost:WC_Normalize_Optimistic  1 9.9713e+10 583.64\n",
      "+ WC_Normalize_Experimental                  1 9.9893e+10 583.68\n",
      "+ WC_Normalize_Cost:WC_Normalize_Affective   1 9.9991e+10 583.71\n",
      "+ WC_Normalize_Functional                    1 1.0150e+11 584.05\n",
      "+ WC_Normalize_Symbolic                      1 1.0167e+11 584.09\n"
     ]
    }
   ],
   "source": [
    "######################################################\n",
    "# 2. Test models by absolute word count %\n",
    "######################################################\n",
    "#--- 2a. By original sales (Normalized Cost words drive sales)\n",
    "model <- glm(Sales_K_Unit ~ WC_Normalize_Functional + \n",
    "                            WC_Normalize_Experimental + \n",
    "                            WC_Normalize_Symbolic + \n",
    "                            WC_Normalize_Cost +\n",
    "                            WC_Normalize_Functional: WC_Normalize_Optimistic+ \n",
    "                            WC_Normalize_Experimental: WC_Normalize_Optimistic+ \n",
    "                            WC_Normalize_Symbolic: WC_Normalize_Optimistic+ \n",
    "                            WC_Normalize_Cost: WC_Normalize_Optimistic+\n",
    "                            WC_Normalize_Functional: WC_Normalize_Affective+ \n",
    "                            WC_Normalize_Experimental: WC_Normalize_Affective+ \n",
    "                            WC_Normalize_Symbolic: WC_Normalize_Affective+ \n",
    "                            WC_Normalize_Cost: WC_Normalize_Affective\n",
    "             , data = data)\n",
    "\n",
    "null_model <- glm(Sales_K_Unit ~ 1, data = data)\n",
    "\n",
    "final_model <- stepAIC(null_model, direction=\"forward\",scope=list(upper=model,lower=null_model))"
   ]
  },
  {
   "cell_type": "code",
   "execution_count": 8,
   "metadata": {},
   "outputs": [
    {
     "data": {
      "text/plain": [
       "\n",
       "Call:\n",
       "glm(formula = Sales_K_Unit ~ WC_Normalize_Cost, data = data)\n",
       "\n",
       "Deviance Residuals: \n",
       "   Min      1Q  Median      3Q     Max  \n",
       "-78994  -47445  -19367   45515  168017  \n",
       "\n",
       "Coefficients:\n",
       "                  Estimate Std. Error t value Pr(>|t|)    \n",
       "(Intercept)         133280      34529    3.86 0.000908 ***\n",
       "WC_Normalize_Cost -3416998    1619375   -2.11 0.047022 *  \n",
       "---\n",
       "Signif. codes:  0 '***' 0.001 '**' 0.01 '*' 0.05 '.' 0.1 ' ' 1\n",
       "\n",
       "(Dispersion parameter for gaussian family taken to be 4845558234)\n",
       "\n",
       "    Null deviance: 1.2333e+11  on 22  degrees of freedom\n",
       "Residual deviance: 1.0176e+11  on 21  degrees of freedom\n",
       "AIC: 582.11\n",
       "\n",
       "Number of Fisher Scoring iterations: 2\n"
      ]
     },
     "metadata": {},
     "output_type": "display_data"
    }
   ],
   "source": [
    "# display model parameters\n",
    "summary(final_model)"
   ]
  },
  {
   "cell_type": "code",
   "execution_count": 9,
   "metadata": {},
   "outputs": [
    {
     "data": {
      "image/png": "[encoded data removed]",
      "text/plain": [
       "plot without title"
      ]
     },
     "metadata": {
      "image/png": {
       "height": 420,
       "width": 420
      },
      "text/plain": {
       "height": 420,
       "width": 420
      }
     },
     "output_type": "display_data"
    }
   ],
   "source": [
    "plot(data$WC_Normalize_Cost, data$Sales_K_Unit)\n",
    "\n",
    "#--- 2b. By Adjusted sales (No variables are significant - Not studied further)\n",
    "# model <- glm(Adj_Sales ~ WC_Normalize_Functional + \n",
    "#                          WC_Normalize_Experimental + \n",
    "#                          WC_Normalize_Symbolic+ \n",
    "#                          WC_Normalize_Cost, data = data)\n",
    "# \n",
    "# null_model <- glm(Adj_Sales ~ 1, data = data)\n",
    "# \n",
    "# fwd_model <- stepAIC(null_model, direction=\"forward\",scope=list(upper=model,lower=null_model))\n",
    "# \n",
    "# summary(fwd_model)"
   ]
  },
  {
   "cell_type": "code",
   "execution_count": 10,
   "metadata": {},
   "outputs": [
    {
     "data": {
      "text/plain": [
       "\n",
       "Call:\n",
       "glm(formula = Sales_K_Unit ~ Symbolic + WC_Normalize_Cost, data = data)\n",
       "\n",
       "Deviance Residuals: \n",
       "    Min       1Q   Median       3Q      Max  \n",
       "-103301   -39874    -5406    29241   152631  \n",
       "\n",
       "Coefficients:\n",
       "                  Estimate Std. Error t value Pr(>|t|)  \n",
       "(Intercept)          92773      43991   2.109   0.0478 *\n",
       "Symbolic              3911       2731   1.432   0.1675  \n",
       "WC_Normalize_Cost -2694436    1658863  -1.624   0.1200  \n",
       "---\n",
       "Signif. codes:  0 '***' 0.001 '**' 0.01 '*' 0.05 '.' 0.1 ' ' 1\n",
       "\n",
       "(Dispersion parameter for gaussian family taken to be 4614504668)\n",
       "\n",
       "    Null deviance: 1.2333e+11  on 22  degrees of freedom\n",
       "Residual deviance: 9.2290e+10  on 20  degrees of freedom\n",
       "AIC: 581.86\n",
       "\n",
       "Number of Fisher Scoring iterations: 2\n"
      ]
     },
     "metadata": {},
     "output_type": "display_data"
    },
    {
     "data": {
      "text/plain": [
       "\n",
       "Call:\n",
       "glm(formula = Sales_K_Unit ~ Symbolic + Cost, data = data)\n",
       "\n",
       "Deviance Residuals: \n",
       "    Min       1Q   Median       3Q      Max  \n",
       "-107199   -40347   -21466    15516   190802  \n",
       "\n",
       "Coefficients:\n",
       "            Estimate Std. Error t value Pr(>|t|)\n",
       "(Intercept)  28151.9    28522.5   0.987    0.335\n",
       "Symbolic      4715.3     3727.4   1.265    0.220\n",
       "Cost           108.2      496.6   0.218    0.830\n",
       "\n",
       "(Dispersion parameter for gaussian family taken to be 5210850127)\n",
       "\n",
       "    Null deviance: 1.2333e+11  on 22  degrees of freedom\n",
       "Residual deviance: 1.0422e+11  on 20  degrees of freedom\n",
       "AIC: 584.66\n",
       "\n",
       "Number of Fisher Scoring iterations: 2\n"
      ]
     },
     "metadata": {},
     "output_type": "display_data"
    },
    {
     "data": {
      "text/plain": [
       "\n",
       "Call:\n",
       "glm(formula = Sales_K_Unit ~ WC_Normalize_Symbolic + WC_Normalize_Cost, \n",
       "    data = data)\n",
       "\n",
       "Deviance Residuals: \n",
       "   Min      1Q  Median      3Q     Max  \n",
       "-78572  -46080  -21453   45583  168815  \n",
       "\n",
       "Coefficients:\n",
       "                      Estimate Std. Error t value Pr(>|t|)   \n",
       "(Intercept)             131984      36694   3.597   0.0018 **\n",
       "WC_Normalize_Symbolic   537834    4057806   0.133   0.8959   \n",
       "WC_Normalize_Cost     -3433530    1663321  -2.064   0.0522 . \n",
       "---\n",
       "Signif. codes:  0 '***' 0.001 '**' 0.01 '*' 0.05 '.' 0.1 ' ' 1\n",
       "\n",
       "(Dispersion parameter for gaussian family taken to be 5083371006)\n",
       "\n",
       "    Null deviance: 1.2333e+11  on 22  degrees of freedom\n",
       "Residual deviance: 1.0167e+11  on 20  degrees of freedom\n",
       "AIC: 584.09\n",
       "\n",
       "Number of Fisher Scoring iterations: 2\n"
      ]
     },
     "metadata": {},
     "output_type": "display_data"
    }
   ],
   "source": [
    "######################################################\n",
    "# 3. Composite model from 1, 2 (All Not significant)\n",
    "######################################################\n",
    "model2 <- glm(Sales_K_Unit ~ Symbolic +\n",
    "                             WC_Normalize_Cost\n",
    "              , data = data)\n",
    "\n",
    "summary(model2)\n",
    "\n",
    "#-- cannot combine\n",
    "model3 <- glm(Sales_K_Unit ~ Symbolic +\n",
    "                             Cost\n",
    "              , data = data)\n",
    "\n",
    "summary(model3)\n",
    "\n",
    "#-- cannot combine\n",
    "model4 <- glm(Sales_K_Unit ~ WC_Normalize_Symbolic +\n",
    "                             WC_Normalize_Cost\n",
    "              , data = data)\n",
    "\n",
    "summary(model4)"
   ]
  }
 ],
 "metadata": {
  "kernelspec": {
   "display_name": "R",
   "language": "R",
   "name": "ir"
  },
  "language_info": {
   "codemirror_mode": "r",
   "file_extension": ".r",
   "mimetype": "text/x-r-source",
   "name": "R",
   "pygments_lexer": "r",
   "version": "3.5.1"
  }
 },
 "nbformat": 4,
 "nbformat_minor": 2
}
